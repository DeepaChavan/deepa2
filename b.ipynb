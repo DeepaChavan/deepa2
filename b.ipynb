{
  "cells": [
    {
      "cell_type": "code",
      "execution_count": 1,
      "id": "f62777ef-06b1-424c-bbd4-2b20d0740b14",
      "metadata": {
        "colab": {
          "base_uri": "https://localhost:8080/"
        },
        "id": "f62777ef-06b1-424c-bbd4-2b20d0740b14",
        "outputId": "ad1e380c-4da9-46ea-94bc-7aca0b8e8f48"
      },
      "outputs": [
        {
          "output_type": "stream",
          "name": "stdout",
          "text": [
            "   Number  Hash1  Hash2\n",
            "0      17      5      0\n",
            "1      23     11     12\n",
            "2       7      8      6\n",
            "3      15      3      9\n",
            "4       8      9      8\n",
            "\n",
            "Bloom filter values: [1, 0, 0, 1, 0, 1, 1, 0, 1, 1, 0, 1, 1]\n",
            "\n",
            "Check for new number 21.\n",
            "Result: 21 might be in the set (Possible False Positive)\n"
          ]
        }
      ],
      "source": [
        "import pandas as pd, random\n",
        "\n",
        "bloom_filter = [0] * 13\n",
        "h1 = lambda x: (x + 1) % 13\n",
        "h2 = lambda x: (2 * x + 5) % 13\n",
        "\n",
        "nums = random.sample(range(1, 30), 5)  # 5 random unique numbers between 1 and 29\n",
        "for n in nums:\n",
        "    bloom_filter[h1(n)] = 1\n",
        "    bloom_filter[h2(n)] = 1\n",
        "\n",
        "data = {'Number': nums, 'Hash1': [h1(x) for x in nums], 'Hash2': [h2(x) for x in nums]}\n",
        "print(pd.DataFrame(data))\n",
        "print(\"\\nBloom filter values:\", bloom_filter)\n",
        "\n",
        "chk = random.randint(1, 30)\n",
        "c1, c2 = h1(chk), h2(chk)\n",
        "print(f\"\\nCheck for new number {chk}.\")\n",
        "if bloom_filter[c1] and bloom_filter[c2]:\n",
        "    print(f\"Result: {chk} might be in the set (Possible False Positive)\")\n",
        "else:\n",
        "    print(f\"Result: {chk} is definitely not in the set\")\n",
        "    print(f\"Hash values of new number are hash1 = {c1} and hash2 = {c2}.\")"
      ]
    },
    {
      "cell_type": "code",
      "execution_count": null,
      "id": "c6577db6-2221-4452-b4b1-0ecf83c98f1f",
      "metadata": {
        "id": "c6577db6-2221-4452-b4b1-0ecf83c98f1f"
      },
      "outputs": [],
      "source": []
    }
  ],
  "metadata": {
    "kernelspec": {
      "display_name": "Python [conda env:base] *",
      "language": "python",
      "name": "conda-base-py"
    },
    "language_info": {
      "codemirror_mode": {
        "name": "ipython",
        "version": 3
      },
      "file_extension": ".py",
      "mimetype": "text/x-python",
      "name": "python",
      "nbconvert_exporter": "python",
      "pygments_lexer": "ipython3",
      "version": "3.12.7"
    },
    "colab": {
      "provenance": []
    }
  },
  "nbformat": 4,
  "nbformat_minor": 5
}