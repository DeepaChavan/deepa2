{
  "nbformat": 4,
  "nbformat_minor": 0,
  "metadata": {
    "colab": {
      "provenance": []
    },
    "kernelspec": {
      "name": "python3",
      "display_name": "Python 3"
    },
    "language_info": {
      "name": "python"
    }
  },
  "cells": [
    {
      "cell_type": "code",
      "execution_count": null,
      "metadata": {
        "id": "K6jlGbM53UPR"
      },
      "outputs": [],
      "source": []
    },
    {
      "cell_type": "code",
      "source": [],
      "metadata": {
        "id": "kSLVVrWX3WHY"
      },
      "execution_count": null,
      "outputs": []
    },
    {
      "cell_type": "code",
      "source": [],
      "metadata": {
        "id": "ZnstXbpj3WKK"
      },
      "execution_count": null,
      "outputs": []
    },
    {
      "cell_type": "code",
      "source": [],
      "metadata": {
        "id": "RHYxq5b63WNE"
      },
      "execution_count": null,
      "outputs": []
    },
    {
      "cell_type": "code",
      "source": [],
      "metadata": {
        "id": "3oPRmXxn3WPt"
      },
      "execution_count": null,
      "outputs": []
    },
    {
      "cell_type": "code",
      "source": [],
      "metadata": {
        "id": "hlUUgzb93WSd"
      },
      "execution_count": null,
      "outputs": []
    },
    {
      "cell_type": "code",
      "source": [],
      "metadata": {
        "id": "Fi1LhLkt3WVL"
      },
      "execution_count": null,
      "outputs": []
    },
    {
      "cell_type": "code",
      "source": [],
      "metadata": {
        "id": "8Wm-g1hC3WYN"
      },
      "execution_count": null,
      "outputs": []
    },
    {
      "cell_type": "code",
      "source": [],
      "metadata": {
        "id": "u1KdCGrZ3Wa0"
      },
      "execution_count": null,
      "outputs": []
    },
    {
      "cell_type": "code",
      "source": [],
      "metadata": {
        "id": "hjPimnJU3Wdr"
      },
      "execution_count": null,
      "outputs": []
    },
    {
      "cell_type": "code",
      "source": [],
      "metadata": {
        "id": "aXC0TxeL3WgT"
      },
      "execution_count": null,
      "outputs": []
    },
    {
      "cell_type": "code",
      "source": [
        "import random\n",
        "\n",
        "stream = [random.randint(1, 9) for _ in range(23)]\n",
        "n = len(stream)\n",
        "\n",
        "def count_occurence(stream, pos):\n",
        "  element = stream[pos-1]\n",
        "  return sum(1 for elem in stream[pos-1:] if elem == element)\n",
        "\n",
        "x0 = random.randint(1, n)\n",
        "x1 = random.randint(1, n)\n",
        "x2 = random.randint(1, n)\n",
        "\n",
        "data = {'x': [x0, x1, x2], 'x.ele': [stream[x0-1], stream[x1-1], stream[x2-1]]}\n",
        "data['x.val'] = [count_occurence(stream, x) for x in data['x']]\n",
        "data['n(2*x.val-1)'] = [n * (2*val-1) for val in data['x.val']]\n",
        "average = sum(data['n(2*x.val-1)']) / len(data['n(2*x.val-1)'])\n",
        "\n",
        "import pandas as pd\n",
        "print(pd.DataFrame(data))\n",
        "print(\"Result = \", average)"
      ],
      "metadata": {
        "colab": {
          "base_uri": "https://localhost:8080/"
        },
        "id": "gwNbVFe13W5L",
        "outputId": "57863e3d-2b7c-45a1-f35f-cc409fa3a3bb"
      },
      "execution_count": 1,
      "outputs": [
        {
          "output_type": "stream",
          "name": "stdout",
          "text": [
            "    x  x.ele  x.val  n(2*x.val-1)\n",
            "0   9      7      2            69\n",
            "1   9      7      2            69\n",
            "2  11      4      3           115\n",
            "Result =  84.33333333333333\n"
          ]
        }
      ]
    }
  ]
}