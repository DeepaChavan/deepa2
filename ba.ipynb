{
  "nbformat": 4,
  "nbformat_minor": 0,
  "metadata": {
    "colab": {
      "provenance": []
    },
    "kernelspec": {
      "name": "python3",
      "display_name": "Python 3"
    },
    "language_info": {
      "name": "python"
    }
  },
  "cells": [
    {
      "cell_type": "code",
      "source": [],
      "metadata": {
        "id": "wHwP8oP04EHR"
      },
      "execution_count": null,
      "outputs": []
    },
    {
      "cell_type": "code",
      "source": [],
      "metadata": {
        "id": "hpMeLzhd4I1P"
      },
      "execution_count": null,
      "outputs": []
    },
    {
      "cell_type": "code",
      "source": [],
      "metadata": {
        "id": "W4U1lfL44I4o"
      },
      "execution_count": null,
      "outputs": []
    },
    {
      "cell_type": "code",
      "source": [],
      "metadata": {
        "id": "YxAq_fdS4I7h"
      },
      "execution_count": null,
      "outputs": []
    },
    {
      "cell_type": "code",
      "source": [],
      "metadata": {
        "id": "W6Qv3WLE4I-w"
      },
      "execution_count": null,
      "outputs": []
    },
    {
      "cell_type": "code",
      "source": [],
      "metadata": {
        "id": "STlpKdhF4JB-"
      },
      "execution_count": null,
      "outputs": []
    },
    {
      "cell_type": "code",
      "source": [],
      "metadata": {
        "id": "sLGpdsQS4JE2"
      },
      "execution_count": null,
      "outputs": []
    },
    {
      "cell_type": "code",
      "source": [],
      "metadata": {
        "id": "Pk_grDTh4JIA"
      },
      "execution_count": null,
      "outputs": []
    },
    {
      "cell_type": "code",
      "source": [],
      "metadata": {
        "id": "DSub3wfs4JLH"
      },
      "execution_count": null,
      "outputs": []
    },
    {
      "cell_type": "code",
      "source": [],
      "metadata": {
        "id": "VybXVUWK4JOH"
      },
      "execution_count": null,
      "outputs": []
    },
    {
      "cell_type": "code",
      "source": [],
      "metadata": {
        "id": "C3nwWigZ4JRa"
      },
      "execution_count": null,
      "outputs": []
    },
    {
      "cell_type": "code",
      "source": [],
      "metadata": {
        "id": "gfMzu4X64JU8"
      },
      "execution_count": null,
      "outputs": []
    },
    {
      "cell_type": "code",
      "source": [],
      "metadata": {
        "id": "TX_jnzyD4JYL"
      },
      "execution_count": null,
      "outputs": []
    },
    {
      "cell_type": "code",
      "execution_count": null,
      "metadata": {
        "colab": {
          "base_uri": "https://localhost:8080/"
        },
        "id": "9xeaF3Wq519y",
        "outputId": "75d7e797-4648-4c8a-ee82-04ab72141a64"
      },
      "outputs": [
        {
          "output_type": "stream",
          "name": "stdout",
          "text": [
            "Order of impressions: ['A', 'A', 'A', 'A', 'B', 'A', 'B', 'A', 'B', 'C', 'A', 'B']\n",
            "Final spend: {'A': 7, 'B': 4, 'C': 1}\n"
          ]
        }
      ],
      "source": [
        "\n",
        "\n",
        "advertisers = {\n",
        "    \"A\": {\"budget\": 8, \"spent\": 0},\n",
        "    \"B\": {\"budget\": 5, \"spent\": 0},\n",
        "    \"C\": {\"budget\": 3, \"spent\": 0},\n",
        "}\n",
        "\n",
        "impression_cost = 1\n",
        "impressions = 12\n",
        "\n",
        "allocations = []\n",
        "\n",
        "for i in range(impressions):\n",
        "\n",
        "    remaining = {k: v[\"budget\"] - v[\"spent\"] for k, v in advertisers.items()}\n",
        "\n",
        "    remaining = {k: r for k, r in remaining.items() if r >= impression_cost}\n",
        "    if not remaining:\n",
        "        break\n",
        "\n",
        "    chosen = max(remaining, key=remaining.get)\n",
        "    advertisers[chosen][\"spent\"] += impression_cost\n",
        "    allocations.append(chosen)\n",
        "\n",
        "print(\"Order of impressions:\", allocations)\n",
        "print(\"Final spend:\", {k: v[\"spent\"] for k, v in advertisers.items()})\n"
      ]
    },
    {
      "cell_type": "code",
      "source": [],
      "metadata": {
        "id": "E2F86x3q7Q4v"
      },
      "execution_count": null,
      "outputs": []
    }
  ]
}