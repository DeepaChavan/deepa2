{
  "nbformat": 4,
  "nbformat_minor": 0,
  "metadata": {
    "colab": {
      "provenance": []
    },
    "kernelspec": {
      "name": "python3",
      "display_name": "Python 3"
    },
    "language_info": {
      "name": "python"
    }
  },
  "cells": [
    {
      "cell_type": "code",
      "execution_count": null,
      "metadata": {
        "id": "xCaoND93jA1W"
      },
      "outputs": [],
      "source": []
    },
    {
      "cell_type": "code",
      "source": [],
      "metadata": {
        "id": "rWvmWJQsjEPo"
      },
      "execution_count": null,
      "outputs": []
    },
    {
      "cell_type": "code",
      "source": [],
      "metadata": {
        "id": "SULvdtLZp5NX"
      },
      "execution_count": null,
      "outputs": []
    },
    {
      "cell_type": "code",
      "source": [],
      "metadata": {
        "id": "yotQF7jOp5QA"
      },
      "execution_count": null,
      "outputs": []
    },
    {
      "cell_type": "code",
      "source": [],
      "metadata": {
        "id": "7Ox0E25Lp5Sq"
      },
      "execution_count": null,
      "outputs": []
    },
    {
      "cell_type": "code",
      "source": [],
      "metadata": {
        "id": "Kg56hGQxp5Vr"
      },
      "execution_count": null,
      "outputs": []
    },
    {
      "cell_type": "code",
      "source": [],
      "metadata": {
        "id": "dPICJ8max7o3"
      },
      "execution_count": null,
      "outputs": []
    },
    {
      "cell_type": "code",
      "source": [],
      "metadata": {
        "id": "0wwmZ8oPx7rl"
      },
      "execution_count": null,
      "outputs": []
    },
    {
      "cell_type": "code",
      "source": [],
      "metadata": {
        "id": "-F7TWu5mx7uT"
      },
      "execution_count": null,
      "outputs": []
    },
    {
      "cell_type": "code",
      "source": [],
      "metadata": {
        "id": "jvchAMrCx7xR"
      },
      "execution_count": null,
      "outputs": []
    },
    {
      "cell_type": "code",
      "source": [],
      "metadata": {
        "id": "1E7ji_5Dx70H"
      },
      "execution_count": null,
      "outputs": []
    },
    {
      "cell_type": "code",
      "source": [],
      "metadata": {
        "id": "LS8O4mQ1x725"
      },
      "execution_count": null,
      "outputs": []
    },
    {
      "cell_type": "code",
      "source": [],
      "metadata": {
        "id": "-auZ3_rax75l"
      },
      "execution_count": null,
      "outputs": []
    },
    {
      "cell_type": "code",
      "source": [],
      "metadata": {
        "id": "EsYGzcX0x78j"
      },
      "execution_count": null,
      "outputs": []
    },
    {
      "cell_type": "code",
      "source": [
        "!pip install pyspark"
      ],
      "metadata": {
        "id": "qVPWe-Wsp5YV"
      },
      "execution_count": null,
      "outputs": []
    },
    {
      "cell_type": "code",
      "source": [
        "!python -m pip install pyspark\n"
      ],
      "metadata": {
        "id": "ym5dax5Fp5bH"
      },
      "execution_count": null,
      "outputs": []
    },
    {
      "cell_type": "code",
      "source": [
        "#Logistic regression using pyspark"
      ],
      "metadata": {
        "id": "gM4xtmb1jESY"
      },
      "execution_count": null,
      "outputs": []
    },
    {
      "cell_type": "code",
      "source": [
        "from pyspark.sql import SparkSession\n",
        "spark=SparkSession.builder.appName('Logis').getOrCreate()"
      ],
      "metadata": {
        "id": "iaZzFLMfjEYm"
      },
      "execution_count": 2,
      "outputs": []
    },
    {
      "cell_type": "code",
      "source": [
        "df=spark.read.csv('/content/Titanic-Dataset.csv',inferSchema=True,header=True)\n",
        "\n",
        "df.head()"
      ],
      "metadata": {
        "colab": {
          "base_uri": "https://localhost:8080/"
        },
        "id": "66WTf37bjXjd",
        "outputId": "99bb5132-3a1e-44b3-9edf-00d511f3d63f"
      },
      "execution_count": 3,
      "outputs": [
        {
          "output_type": "execute_result",
          "data": {
            "text/plain": [
              "Row(PassengerId=1, Survived=0, Pclass=3, Name='Braund, Mr. Owen Harris', Sex='male', Age=22.0, SibSp=1, Parch=0, Ticket='A/5 21171', Fare=7.25, Cabin=None, Embarked='S')"
            ]
          },
          "metadata": {},
          "execution_count": 3
        }
      ]
    },
    {
      "cell_type": "code",
      "source": [
        "df.show()"
      ],
      "metadata": {
        "colab": {
          "base_uri": "https://localhost:8080/"
        },
        "id": "7haXf_SPlgXx",
        "outputId": "e8232cb9-6949-45a5-eb8b-969656389abe"
      },
      "execution_count": 4,
      "outputs": [
        {
          "output_type": "stream",
          "name": "stdout",
          "text": [
            "+-----------+--------+------+--------------------+------+----+-----+-----+----------------+-------+-----+--------+\n",
            "|PassengerId|Survived|Pclass|                Name|   Sex| Age|SibSp|Parch|          Ticket|   Fare|Cabin|Embarked|\n",
            "+-----------+--------+------+--------------------+------+----+-----+-----+----------------+-------+-----+--------+\n",
            "|          1|       0|     3|Braund, Mr. Owen ...|  male|22.0|    1|    0|       A/5 21171|   7.25| NULL|       S|\n",
            "|          2|       1|     1|Cumings, Mrs. Joh...|female|38.0|    1|    0|        PC 17599|71.2833|  C85|       C|\n",
            "|          3|       1|     3|Heikkinen, Miss. ...|female|26.0|    0|    0|STON/O2. 3101282|  7.925| NULL|       S|\n",
            "|          4|       1|     1|Futrelle, Mrs. Ja...|female|35.0|    1|    0|          113803|   53.1| C123|       S|\n",
            "|          5|       0|     3|Allen, Mr. Willia...|  male|35.0|    0|    0|          373450|   8.05| NULL|       S|\n",
            "|          6|       0|     3|    Moran, Mr. James|  male|NULL|    0|    0|          330877| 8.4583| NULL|       Q|\n",
            "|          7|       0|     1|McCarthy, Mr. Tim...|  male|54.0|    0|    0|           17463|51.8625|  E46|       S|\n",
            "|          8|       0|     3|Palsson, Master. ...|  male| 2.0|    3|    1|          349909| 21.075| NULL|       S|\n",
            "|          9|       1|     3|Johnson, Mrs. Osc...|female|27.0|    0|    2|          347742|11.1333| NULL|       S|\n",
            "|         10|       1|     2|Nasser, Mrs. Nich...|female|14.0|    1|    0|          237736|30.0708| NULL|       C|\n",
            "|         11|       1|     3|Sandstrom, Miss. ...|female| 4.0|    1|    1|         PP 9549|   16.7|   G6|       S|\n",
            "|         12|       1|     1|Bonnell, Miss. El...|female|58.0|    0|    0|          113783|  26.55| C103|       S|\n",
            "|         13|       0|     3|Saundercock, Mr. ...|  male|20.0|    0|    0|       A/5. 2151|   8.05| NULL|       S|\n",
            "|         14|       0|     3|Andersson, Mr. An...|  male|39.0|    1|    5|          347082| 31.275| NULL|       S|\n",
            "|         15|       0|     3|Vestrom, Miss. Hu...|female|14.0|    0|    0|          350406| 7.8542| NULL|       S|\n",
            "|         16|       1|     2|Hewlett, Mrs. (Ma...|female|55.0|    0|    0|          248706|   16.0| NULL|       S|\n",
            "|         17|       0|     3|Rice, Master. Eugene|  male| 2.0|    4|    1|          382652| 29.125| NULL|       Q|\n",
            "|         18|       1|     2|Williams, Mr. Cha...|  male|NULL|    0|    0|          244373|   13.0| NULL|       S|\n",
            "|         19|       0|     3|Vander Planke, Mr...|female|31.0|    1|    0|          345763|   18.0| NULL|       S|\n",
            "|         20|       1|     3|Masselmani, Mrs. ...|female|NULL|    0|    0|            2649|  7.225| NULL|       C|\n",
            "+-----------+--------+------+--------------------+------+----+-----+-----+----------------+-------+-----+--------+\n",
            "only showing top 20 rows\n",
            "\n"
          ]
        }
      ]
    },
    {
      "cell_type": "code",
      "source": [
        "df.printSchema()"
      ],
      "metadata": {
        "colab": {
          "base_uri": "https://localhost:8080/"
        },
        "id": "AgOgAnVqljJ5",
        "outputId": "86dcaae1-3ac5-4efc-bebb-9a981d9ca3b0"
      },
      "execution_count": 5,
      "outputs": [
        {
          "output_type": "stream",
          "name": "stdout",
          "text": [
            "root\n",
            " |-- PassengerId: integer (nullable = true)\n",
            " |-- Survived: integer (nullable = true)\n",
            " |-- Pclass: integer (nullable = true)\n",
            " |-- Name: string (nullable = true)\n",
            " |-- Sex: string (nullable = true)\n",
            " |-- Age: double (nullable = true)\n",
            " |-- SibSp: integer (nullable = true)\n",
            " |-- Parch: integer (nullable = true)\n",
            " |-- Ticket: string (nullable = true)\n",
            " |-- Fare: double (nullable = true)\n",
            " |-- Cabin: string (nullable = true)\n",
            " |-- Embarked: string (nullable = true)\n",
            "\n"
          ]
        }
      ]
    },
    {
      "cell_type": "code",
      "source": [
        "df.columns"
      ],
      "metadata": {
        "colab": {
          "base_uri": "https://localhost:8080/"
        },
        "id": "YpUAI9wWlqWi",
        "outputId": "1c7d1f54-2409-4cac-d2c4-b4d56f81af0e"
      },
      "execution_count": 6,
      "outputs": [
        {
          "output_type": "execute_result",
          "data": {
            "text/plain": [
              "['PassengerId',\n",
              " 'Survived',\n",
              " 'Pclass',\n",
              " 'Name',\n",
              " 'Sex',\n",
              " 'Age',\n",
              " 'SibSp',\n",
              " 'Parch',\n",
              " 'Ticket',\n",
              " 'Fare',\n",
              " 'Cabin',\n",
              " 'Embarked']"
            ]
          },
          "metadata": {},
          "execution_count": 6
        }
      ]
    },
    {
      "cell_type": "code",
      "source": [
        "rm_columns=df.select(['Survived','Pclass','Sex','Age','SibSp','Parch','Fare','Embarked'])\n",
        "\n",
        "result=rm_columns.na.drop()\n",
        "\n",
        "result.show()"
      ],
      "metadata": {
        "colab": {
          "base_uri": "https://localhost:8080/"
        },
        "id": "3sGeOzOIltgz",
        "outputId": "d4988b3f-ff63-4e89-89ac-d4dcfe1bef88"
      },
      "execution_count": 8,
      "outputs": [
        {
          "output_type": "stream",
          "name": "stdout",
          "text": [
            "+--------+------+------+----+-----+-----+-------+--------+\n",
            "|Survived|Pclass|   Sex| Age|SibSp|Parch|   Fare|Embarked|\n",
            "+--------+------+------+----+-----+-----+-------+--------+\n",
            "|       0|     3|  male|22.0|    1|    0|   7.25|       S|\n",
            "|       1|     1|female|38.0|    1|    0|71.2833|       C|\n",
            "|       1|     3|female|26.0|    0|    0|  7.925|       S|\n",
            "|       1|     1|female|35.0|    1|    0|   53.1|       S|\n",
            "|       0|     3|  male|35.0|    0|    0|   8.05|       S|\n",
            "|       0|     1|  male|54.0|    0|    0|51.8625|       S|\n",
            "|       0|     3|  male| 2.0|    3|    1| 21.075|       S|\n",
            "|       1|     3|female|27.0|    0|    2|11.1333|       S|\n",
            "|       1|     2|female|14.0|    1|    0|30.0708|       C|\n",
            "|       1|     3|female| 4.0|    1|    1|   16.7|       S|\n",
            "|       1|     1|female|58.0|    0|    0|  26.55|       S|\n",
            "|       0|     3|  male|20.0|    0|    0|   8.05|       S|\n",
            "|       0|     3|  male|39.0|    1|    5| 31.275|       S|\n",
            "|       0|     3|female|14.0|    0|    0| 7.8542|       S|\n",
            "|       1|     2|female|55.0|    0|    0|   16.0|       S|\n",
            "|       0|     3|  male| 2.0|    4|    1| 29.125|       Q|\n",
            "|       0|     3|female|31.0|    1|    0|   18.0|       S|\n",
            "|       0|     2|  male|35.0|    0|    0|   26.0|       S|\n",
            "|       1|     2|  male|34.0|    0|    0|   13.0|       S|\n",
            "|       1|     3|female|15.0|    0|    0| 8.0292|       Q|\n",
            "+--------+------+------+----+-----+-----+-------+--------+\n",
            "only showing top 20 rows\n",
            "\n"
          ]
        }
      ]
    },
    {
      "cell_type": "code",
      "source": [
        "# Importing the required libraries\n",
        "from pyspark.ml.feature import VectorAssembler, StringIndexer, OneHotEncoder\n",
        "\n",
        "# Converting the Sex Column\n",
        "sexIdx = StringIndexer(inputCol='Sex',\n",
        "                               outputCol='SexIndex')\n",
        "sexEncode = OneHotEncoder(inputCol='SexIndex',\n",
        "                               outputCol='SexVec')\n",
        "\n",
        "# Converting the Embarked Column\n",
        "embarkIdx = StringIndexer(inputCol='Embarked',\n",
        "                               outputCol='EmbarkIndex')\n",
        "embarkEncode = OneHotEncoder(inputCol='EmbarkIndex',\n",
        "                               outputCol='EmbarkVec')\n",
        "\n",
        "# Vectorizing the data into a new column \"features\"\n",
        "# which will be our input/features class\n",
        "assembler = VectorAssembler(inputCols=['Pclass',\n",
        "                                       'SexVec','Age',\n",
        "                                       'SibSp','Parch',\n",
        "                                       'Fare','EmbarkVec'],\n",
        "                                    outputCol='features')"
      ],
      "metadata": {
        "id": "7UMl-DiumN-T"
      },
      "execution_count": 9,
      "outputs": []
    },
    {
      "cell_type": "code",
      "source": [
        "# Importing Pipeline and Model\n",
        "from pyspark.ml import Pipeline\n",
        "from pyspark.ml.classification import LogisticRegression\n",
        "\n",
        "log_reg = LogisticRegression(featuresCol='features',\n",
        "                             labelCol='Survived')\n",
        "\n",
        "# Creating the pipeline\n",
        "pipe = Pipeline(stages=[sexIdx, embarkIdx,\n",
        "                            sexEncode, embarkEncode,\n",
        "                            assembler, log_reg])"
      ],
      "metadata": {
        "id": "KSbX6Ri8myvP"
      },
      "execution_count": 10,
      "outputs": []
    },
    {
      "cell_type": "code",
      "source": [
        "# Splitting the data into train and test\n",
        "train_data, test_data = result.randomSplit([0.7, .3])\n",
        "\n",
        "# Fitting the model on training data\n",
        "fit_model = pipe.fit(train_data)\n",
        "\n",
        "# Storing the results on test data\n",
        "results = fit_model.transform(test_data)\n",
        "\n",
        "# Showing the results\n",
        "results.show()"
      ],
      "metadata": {
        "colab": {
          "base_uri": "https://localhost:8080/"
        },
        "id": "iuXN9be3m9jm",
        "outputId": "6d44c4d9-962c-4ef1-ff12-2fbb7180b91f"
      },
      "execution_count": 12,
      "outputs": [
        {
          "output_type": "stream",
          "name": "stdout",
          "text": [
            "+--------+------+------+----+-----+-----+--------+--------+--------+-----------+-------------+-------------+--------------------+--------------------+--------------------+----------+\n",
            "|Survived|Pclass|   Sex| Age|SibSp|Parch|    Fare|Embarked|SexIndex|EmbarkIndex|       SexVec|    EmbarkVec|            features|       rawPrediction|         probability|prediction|\n",
            "+--------+------+------+----+-----+-----+--------+--------+--------+-----------+-------------+-------------+--------------------+--------------------+--------------------+----------+\n",
            "|       0|     1|  male|24.0|    0|    1|247.5208|       C|     0.0|        1.0|(1,[0],[1.0])|(2,[1],[1.0])|[1.0,1.0,24.0,0.0...|[-1.0891880426766...|[0.25177120608452...|       1.0|\n",
            "|       0|     1|  male|29.0|    0|    0|    30.0|       S|     0.0|        0.0|(1,[0],[1.0])|(2,[0],[1.0])|[1.0,1.0,29.0,0.0...|[-0.2007235881568...|[0.44998690909268...|       1.0|\n",
            "|       0|     1|  male|29.0|    1|    0|    66.6|       S|     0.0|        0.0|(1,[0],[1.0])|(2,[0],[1.0])|[1.0,1.0,29.0,1.0...|[0.11303602788963...|[0.52822895625221...|       0.0|\n",
            "|       0|     1|  male|31.0|    0|    0| 50.4958|       S|     0.0|        0.0|(1,[0],[1.0])|(2,[0],[1.0])|[1.0,1.0,31.0,0.0...|[-0.1387330648346...|[0.46537225560527...|       1.0|\n",
            "|       0|     1|  male|36.0|    0|    0|  40.125|       C|     0.0|        1.0|(1,[0],[1.0])|(2,[1],[1.0])|[1.0,1.0,36.0,0.0...|[-0.4317050190970...|[0.39371926233282...|       1.0|\n",
            "|       0|     1|  male|37.0|    0|    1|    29.7|       C|     0.0|        1.0|(1,[0],[1.0])|(2,[1],[1.0])|[1.0,1.0,37.0,0.0...|[-0.3592219105388...|[0.41114793249942...|       1.0|\n",
            "|       0|     1|  male|38.0|    0|    0|     0.0|       S|     0.0|        0.0|(1,[0],[1.0])|(2,[0],[1.0])|(8,[0,1,2,6],[1.0...|[0.19210272957072...|[0.54787853258691...|       0.0|\n",
            "|       0|     1|  male|39.0|    0|    0|     0.0|       S|     0.0|        0.0|(1,[0],[1.0])|(2,[0],[1.0])|(8,[0,1,2,6],[1.0...|[0.23264480659754...|[0.55790028921358...|       0.0|\n",
            "|       0|     1|  male|45.0|    0|    0|   26.55|       S|     0.0|        0.0|(1,[0],[1.0])|(2,[0],[1.0])|[1.0,1.0,45.0,0.0...|[0.45116362108823...|[0.61091585964429...|       0.0|\n",
            "|       0|     1|  male|47.0|    0|    0|    38.5|       S|     0.0|        0.0|(1,[0],[1.0])|(2,[0],[1.0])|[1.0,1.0,47.0,0.0...|[0.52111530472156...|[0.62740852485423...|       0.0|\n",
            "|       0|     1|  male|49.0|    1|    1|110.8833|       C|     0.0|        1.0|(1,[0],[1.0])|(2,[1],[1.0])|[1.0,1.0,49.0,1.0...|[0.39950938560444...|[0.59856977902675...|       0.0|\n",
            "|       0|     1|  male|50.0|    1|    0| 106.425|       C|     0.0|        1.0|(1,[0],[1.0])|(2,[1],[1.0])|[1.0,1.0,50.0,1.0...|[0.42197552708365...|[0.60395587936955...|       0.0|\n",
            "|       0|     1|  male|56.0|    0|    0|   26.55|       S|     0.0|        0.0|(1,[0],[1.0])|(2,[0],[1.0])|[1.0,1.0,56.0,0.0...|[0.89712646838329...|[0.71035863323385...|       0.0|\n",
            "|       0|     1|  male|62.0|    0|    0|   26.55|       S|     0.0|        0.0|(1,[0],[1.0])|(2,[0],[1.0])|[1.0,1.0,62.0,0.0...|[1.14037893054423...|[0.75774920431434...|       0.0|\n",
            "|       0|     1|  male|64.0|    0|    0|    26.0|       S|     0.0|        0.0|(1,[0],[1.0])|(2,[0],[1.0])|[1.0,1.0,64.0,0.0...|[1.22197545771346...|[0.77241100643659...|       0.0|\n",
            "|       0|     1|  male|64.0|    1|    4|   263.0|       S|     0.0|        0.0|(1,[0],[1.0])|(2,[0],[1.0])|[1.0,1.0,64.0,1.0...|[1.43796187028239...|[0.80813883694337...|       0.0|\n",
            "|       0|     2|female|38.0|    0|    0|    13.0|       S|     1.0|        0.0|    (1,[],[])|(2,[0],[1.0])|(8,[0,2,5,6],[2.0...|[-0.9603423734223...|[0.27680965124927...|       1.0|\n",
            "|       0|     2|  male|16.0|    0|    0|    26.0|       S|     0.0|        0.0|(1,[0],[1.0])|(2,[0],[1.0])|[2.0,1.0,16.0,0.0...|[0.43779379023164...|[0.60773320974711...|       0.0|\n",
            "|       0|     2|  male|18.0|    0|    0|    73.5|       S|     0.0|        0.0|(1,[0],[1.0])|(2,[0],[1.0])|[2.0,1.0,18.0,0.0...|[0.47462753884887...|[0.61647844632037...|       0.0|\n",
            "|       0|     2|  male|19.0|    1|    1|   36.75|       S|     0.0|        0.0|(1,[0],[1.0])|(2,[0],[1.0])|[2.0,1.0,19.0,1.0...|[0.91949040581333...|[0.71493826099544...|       0.0|\n",
            "+--------+------+------+----+-----+-----+--------+--------+--------+-----------+-------------+-------------+--------------------+--------------------+--------------------+----------+\n",
            "only showing top 20 rows\n",
            "\n"
          ]
        }
      ]
    },
    {
      "cell_type": "code",
      "source": [
        "#Pipeline"
      ],
      "metadata": {
        "id": "xqGieXUMn9Hw"
      },
      "execution_count": null,
      "outputs": []
    },
    {
      "cell_type": "code",
      "source": [
        "import pyspark\n",
        "import findspark\n",
        "findspark.init()\n",
        "from pyspark.sql import SparkSession\n",
        "from pyspark import SparkContext\n",
        "from pyspark.ml import Pipeline\n",
        "from pyspark.ml.feature import StringIndexer, OneHotEncoder , VectorAssembler\n",
        "from pyspark.ml.classification import LogisticRegression"
      ],
      "metadata": {
        "id": "gfTd3gA5n_VA"
      },
      "execution_count": 15,
      "outputs": []
    },
    {
      "cell_type": "code",
      "metadata": {
        "colab": {
          "base_uri": "https://localhost:8080/"
        },
        "id": "1dba9be7",
        "outputId": "c167fb83-006c-47c4-97c6-b595cae9d738"
      },
      "source": [
        "!pip install findspark"
      ],
      "execution_count": 14,
      "outputs": [
        {
          "output_type": "stream",
          "name": "stdout",
          "text": [
            "Collecting findspark\n",
            "  Downloading findspark-2.0.1-py2.py3-none-any.whl.metadata (352 bytes)\n",
            "Downloading findspark-2.0.1-py2.py3-none-any.whl (4.4 kB)\n",
            "Installing collected packages: findspark\n",
            "Successfully installed findspark-2.0.1\n"
          ]
        }
      ]
    },
    {
      "cell_type": "code",
      "source": [
        "# create a sample dataframe with 4 features and 1 label column\n",
        "sample_data_train = spark.createDataFrame([\n",
        "    (2.0, 'A', 'S10', 40, 1.0),\n",
        "    (1.0, 'X', 'E10', 25, 1.0),\n",
        "    (4.0, 'X', 'S20', 10, 0.0),\n",
        "    (3.0, 'Z', 'S10', 20, 0.0),\n",
        "    (4.0, 'A', 'E10', 30, 1.0),\n",
        "    (2.0, 'Z', 'S10', 40, 0.0),\n",
        "    (5.0, 'X', 'D10', 10, 1.0),\n",
        "], ['feature_1', 'feature_2', 'feature_3', 'feature_4', 'label'])\n",
        "\n",
        "# view the data\n",
        "sample_data_train.show()"
      ],
      "metadata": {
        "colab": {
          "base_uri": "https://localhost:8080/"
        },
        "id": "rr-mSNTfq1K2",
        "outputId": "3ea62a96-d640-43a1-ab46-384fc8b0be5d"
      },
      "execution_count": 16,
      "outputs": [
        {
          "output_type": "stream",
          "name": "stdout",
          "text": [
            "+---------+---------+---------+---------+-----+\n",
            "|feature_1|feature_2|feature_3|feature_4|label|\n",
            "+---------+---------+---------+---------+-----+\n",
            "|      2.0|        A|      S10|       40|  1.0|\n",
            "|      1.0|        X|      E10|       25|  1.0|\n",
            "|      4.0|        X|      S20|       10|  0.0|\n",
            "|      3.0|        Z|      S10|       20|  0.0|\n",
            "|      4.0|        A|      E10|       30|  1.0|\n",
            "|      2.0|        Z|      S10|       40|  0.0|\n",
            "|      5.0|        X|      D10|       10|  1.0|\n",
            "+---------+---------+---------+---------+-----+\n",
            "\n"
          ]
        }
      ]
    },
    {
      "cell_type": "code",
      "source": [
        "# Importing the required libraries\n",
        "from pyspark.ml.feature import VectorAssembler, StringIndexer, OneHotEncoder\n",
        "from pyspark.ml.classification import LogisticRegression\n",
        "from pyspark.ml import Pipeline\n",
        "\n",
        "# Convert feature_2\n",
        "feature2Idx = StringIndexer(inputCol='feature_2', outputCol='feature2Idx')\n",
        "feature2Enc = OneHotEncoder(inputCol='feature2Idx', outputCol='feature2Vec')\n",
        "\n",
        "# Convert feature_3\n",
        "feature3Idx = StringIndexer(inputCol='feature_3', outputCol='feature3Idx')\n",
        "feature3Enc = OneHotEncoder(inputCol='feature3Idx', outputCol='feature3Vec')\n",
        "\n",
        "# Assemble all features\n",
        "assembler = VectorAssembler(inputCols=['feature_1', 'feature2Vec', 'feature3Vec', 'feature_4'],\n",
        "                            outputCol='features')\n",
        "\n",
        "# Logistic Regression model\n",
        "lr = LogisticRegression(featuresCol='features', labelCol='label')\n",
        "\n",
        "# Build pipeline\n",
        "pipeline = Pipeline(stages=[feature2Idx, feature2Enc,\n",
        "                            feature3Idx, feature3Enc,\n",
        "                            assembler, lr])\n",
        "\n",
        "# Fit and transform\n",
        "model = pipeline.fit(sample_data_train)\n",
        "result = model.transform(sample_data_train)\n",
        "\n",
        "# View results\n",
        "result.select('features', 'label', 'rawPrediction', 'probability', 'prediction').show()\n"
      ],
      "metadata": {
        "colab": {
          "base_uri": "https://localhost:8080/"
        },
        "id": "vRBTa7Mds8bA",
        "outputId": "5f35b9ce-1b85-478b-a9a3-42db764e88da"
      },
      "execution_count": 17,
      "outputs": [
        {
          "output_type": "stream",
          "name": "stdout",
          "text": [
            "+--------------------+-----+--------------------+--------------------+----------+\n",
            "|            features|label|       rawPrediction|         probability|prediction|\n",
            "+--------------------+-----+--------------------+--------------------+----------+\n",
            "|[2.0,0.0,1.0,1.0,...|  1.0|[-18.225955524188...|[1.21497707416456...|       1.0|\n",
            "|[1.0,1.0,0.0,0.0,...|  1.0|[-18.358243476371...|[1.06442767136925...|       1.0|\n",
            "|(7,[0,1,6],[4.0,1...|  0.0|[18.3563077812100...|[0.99999998933509...|       0.0|\n",
            "|(7,[0,3,6],[3.0,1...|  0.0|[27.4123701891423...|[0.99999999999875...|       0.0|\n",
            "|[4.0,0.0,1.0,0.0,...|  1.0|[-35.975077024041...|[2.37805865550653...|       1.0|\n",
            "|(7,[0,3,6],[2.0,1...|  0.0|[18.2316263544839...|[0.99999998791893...|       0.0|\n",
            "|[5.0,1.0,0.0,0.0,...|  1.0|[-19.243972103991...|[4.38984416425464...|       1.0|\n",
            "+--------------------+-----+--------------------+--------------------+----------+\n",
            "\n"
          ]
        }
      ]
    },
    {
      "cell_type": "code",
      "source": [],
      "metadata": {
        "id": "C-LYGUXUwgZl"
      },
      "execution_count": null,
      "outputs": []
    }
  ]
}